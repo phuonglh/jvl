{
 "cells": [
  {
   "cell_type": "code",
   "execution_count": 3,
   "metadata": {},
   "outputs": [],
   "source": [
    "import torch\n",
    "from torch import nn\n",
    "from torch.utils.data import DataLoader\n",
    "from torchvision import datasets\n",
    "from torchvision.transforms import ToTensor, Lambda, Compose\n",
    "import matplotlib.pyplot as plt"
   ]
  },
  {
   "cell_type": "code",
   "execution_count": 5,
   "metadata": {},
   "outputs": [],
   "source": [
    "training_data = datasets.FashionMNIST(root = \"../../dat/pyt\", train=True, download=True, transform=ToTensor())\n",
    "test_data = datasets.FashionMNIST(root = \"../../dat/pyt\", train=False, download=True, transform=ToTensor())"
   ]
  },
  {
   "cell_type": "code",
   "execution_count": 6,
   "metadata": {},
   "outputs": [
    {
     "name": "stdout",
     "output_type": "stream",
     "text": [
      "Shape of X [N, C, H, W]:  torch.Size([64, 1, 28, 28])\n",
      "Shape of y:  torch.Size([64]) torch.int64\n"
     ]
    }
   ],
   "source": [
    "batch_size = 64\n",
    "# create data loaders\n",
    "training_data_loader = DataLoader(training_data, batch_size=batch_size)\n",
    "test_data_loader = DataLoader(test_data, batch_size=batch_size)\n",
    "\n",
    "for X, y in test_data_loader:\n",
    "  print(\"Shape of X [N, C, H, W]: \", X.shape)\n",
    "  print(\"Shape of y: \", y.shape, y.dtype)\n",
    "  break"
   ]
  },
  {
   "cell_type": "code",
   "execution_count": 7,
   "metadata": {},
   "outputs": [
    {
     "data": {
      "text/plain": [
       "False"
      ]
     },
     "execution_count": 7,
     "metadata": {},
     "output_type": "execute_result"
    }
   ],
   "source": [
    "torch.cuda.is_available()"
   ]
  },
  {
   "cell_type": "code",
   "execution_count": 8,
   "metadata": {},
   "outputs": [
    {
     "name": "stdout",
     "output_type": "stream",
     "text": [
      "Using cpu device.\n"
     ]
    }
   ],
   "source": [
    "device = \"cuda\" if torch.cuda.is_available() else \"cpu\"\n",
    "print(f\"Using {device} device.\")"
   ]
  },
  {
   "cell_type": "code",
   "execution_count": 9,
   "metadata": {},
   "outputs": [],
   "source": [
    "# Define model\n",
    "class NeuralNetwork(nn.Module):\n",
    "  def __init__(self) -> None:\n",
    "      super().__init__()\n",
    "      self.flatten = nn.Flatten()\n",
    "      self.model = nn.Sequential(\n",
    "        nn.Linear(28*28, 512),\n",
    "        nn.ReLU(),\n",
    "        nn.Linear(512, 256),\n",
    "        nn.ReLU(),\n",
    "        nn.Linear(256, 10)\n",
    "      )\n",
    "  def forward(self, x):\n",
    "    x = self.flatten(x)\n",
    "    logits = self.model(x)\n",
    "    return logits"
   ]
  },
  {
   "cell_type": "code",
   "execution_count": 10,
   "metadata": {},
   "outputs": [],
   "source": [
    "model = NeuralNetwork().to(device)"
   ]
  },
  {
   "cell_type": "code",
   "execution_count": 11,
   "metadata": {},
   "outputs": [
    {
     "name": "stdout",
     "output_type": "stream",
     "text": [
      "NeuralNetwork(\n",
      "  (flatten): Flatten(start_dim=1, end_dim=-1)\n",
      "  (model): Sequential(\n",
      "    (0): Linear(in_features=784, out_features=512, bias=True)\n",
      "    (1): ReLU()\n",
      "    (2): Linear(in_features=512, out_features=256, bias=True)\n",
      "    (3): ReLU()\n",
      "    (4): Linear(in_features=256, out_features=10, bias=True)\n",
      "  )\n",
      ")\n"
     ]
    }
   ],
   "source": [
    "print(model)"
   ]
  },
  {
   "cell_type": "code",
   "execution_count": 12,
   "metadata": {},
   "outputs": [],
   "source": [
    "optimizer = torch.optim.Adam(model.parameters())"
   ]
  },
  {
   "cell_type": "code",
   "execution_count": 16,
   "metadata": {},
   "outputs": [],
   "source": [
    "criterion = nn.CrossEntropyLoss()"
   ]
  },
  {
   "cell_type": "code",
   "execution_count": 17,
   "metadata": {},
   "outputs": [],
   "source": [
    "def train(dataloader, model, criterion, optimizer):\n",
    "  N = len(dataloader.dataset)\n",
    "  model.train()\n",
    "  for batch, (X, y) in enumerate(dataloader):\n",
    "    X, y = X.to(device), y.to(device)\n",
    "    prediction = model(X)\n",
    "    loss = criterion(prediction, y)\n",
    "    optimizer.zero_grad()\n",
    "    loss.backward()\n",
    "    optimizer.step()\n",
    "    if batch % 100 == 0:\n",
    "      loss, current = loss.item(), batch * len(X)\n",
    "      print(f\"loss: {loss:>7f} [{current:>5d}/{N:>5d}]\")"
   ]
  },
  {
   "cell_type": "code",
   "execution_count": 41,
   "metadata": {},
   "outputs": [],
   "source": [
    "def test(dataloader, model, criterion):\n",
    "  N = len(dataloader.dataset)\n",
    "  num_batch = len(dataloader)\n",
    "  model.eval()\n",
    "  test_loss, correct = 0, 0\n",
    "  with torch.no_grad():\n",
    "    for X, y in dataloader:\n",
    "      X, y = X.to(device), y.to(device)\n",
    "      prediction = model(X)\n",
    "      test_loss += criterion(prediction, y).item()\n",
    "      correct += (prediction.argmax(1) == y).type(torch.float).sum().item()\n",
    "  test_loss /= num_batch\n",
    "  correct /= N\n",
    "  print(f\"Test accuracy: {(100*correct):>0.1f}%, Avg loss: {test_loss:>8f} \\n\")"
   ]
  },
  {
   "cell_type": "code",
   "execution_count": 20,
   "metadata": {},
   "outputs": [
    {
     "name": "stdout",
     "output_type": "stream",
     "text": [
      "Epoch 1\n",
      "-------\n",
      "loss: 0.206834 [    0/60000]\n",
      "loss: 0.258138 [ 6400/60000]\n",
      "loss: 0.193781 [12800/60000]\n",
      "loss: 0.229687 [19200/60000]\n",
      "loss: 0.325572 [25600/60000]\n",
      "loss: 0.281255 [32000/60000]\n",
      "loss: 0.210263 [38400/60000]\n",
      "loss: 0.348169 [44800/60000]\n",
      "loss: 0.285773 [51200/60000]\n",
      "loss: 0.342290 [57600/60000]\n",
      "Test error: \n",
      "Accuracy: 87.4%, Avg loss: 0.357545 \n",
      "\n",
      "Epoch 2\n",
      "-------\n",
      "loss: 0.178744 [    0/60000]\n",
      "loss: 0.193994 [ 6400/60000]\n",
      "loss: 0.180524 [12800/60000]\n",
      "loss: 0.226158 [19200/60000]\n",
      "loss: 0.289966 [25600/60000]\n",
      "loss: 0.271724 [32000/60000]\n",
      "loss: 0.197576 [38400/60000]\n",
      "loss: 0.305221 [44800/60000]\n",
      "loss: 0.235226 [51200/60000]\n",
      "loss: 0.341489 [57600/60000]\n",
      "Test error: \n",
      "Accuracy: 88.0%, Avg loss: 0.341133 \n",
      "\n",
      "Epoch 3\n",
      "-------\n",
      "loss: 0.152790 [    0/60000]\n",
      "loss: 0.169653 [ 6400/60000]\n",
      "loss: 0.215673 [12800/60000]\n",
      "loss: 0.226801 [19200/60000]\n",
      "loss: 0.317692 [25600/60000]\n",
      "loss: 0.233184 [32000/60000]\n",
      "loss: 0.199444 [38400/60000]\n",
      "loss: 0.249745 [44800/60000]\n",
      "loss: 0.231852 [51200/60000]\n",
      "loss: 0.336763 [57600/60000]\n",
      "Test error: \n",
      "Accuracy: 88.0%, Avg loss: 0.352081 \n",
      "\n",
      "Epoch 4\n",
      "-------\n",
      "loss: 0.165604 [    0/60000]\n",
      "loss: 0.175220 [ 6400/60000]\n",
      "loss: 0.213138 [12800/60000]\n",
      "loss: 0.185280 [19200/60000]\n",
      "loss: 0.314639 [25600/60000]\n",
      "loss: 0.211707 [32000/60000]\n",
      "loss: 0.174047 [38400/60000]\n",
      "loss: 0.288044 [44800/60000]\n",
      "loss: 0.267201 [51200/60000]\n",
      "loss: 0.297886 [57600/60000]\n",
      "Test error: \n",
      "Accuracy: 87.7%, Avg loss: 0.370437 \n",
      "\n",
      "Epoch 5\n",
      "-------\n",
      "loss: 0.166865 [    0/60000]\n",
      "loss: 0.204297 [ 6400/60000]\n",
      "loss: 0.176013 [12800/60000]\n",
      "loss: 0.197831 [19200/60000]\n",
      "loss: 0.266649 [25600/60000]\n",
      "loss: 0.229879 [32000/60000]\n",
      "loss: 0.222958 [38400/60000]\n",
      "loss: 0.285726 [44800/60000]\n",
      "loss: 0.201825 [51200/60000]\n",
      "loss: 0.277582 [57600/60000]\n",
      "Test error: \n",
      "Accuracy: 88.1%, Avg loss: 0.361301 \n",
      "\n",
      "Epoch 6\n",
      "-------\n",
      "loss: 0.128447 [    0/60000]\n",
      "loss: 0.147116 [ 6400/60000]\n",
      "loss: 0.172637 [12800/60000]\n",
      "loss: 0.176706 [19200/60000]\n",
      "loss: 0.305731 [25600/60000]\n",
      "loss: 0.232745 [32000/60000]\n",
      "loss: 0.180451 [38400/60000]\n",
      "loss: 0.250292 [44800/60000]\n",
      "loss: 0.165493 [51200/60000]\n",
      "loss: 0.273713 [57600/60000]\n",
      "Test error: \n",
      "Accuracy: 88.3%, Avg loss: 0.360270 \n",
      "\n",
      "Epoch 7\n",
      "-------\n",
      "loss: 0.155758 [    0/60000]\n",
      "loss: 0.121373 [ 6400/60000]\n",
      "loss: 0.157270 [12800/60000]\n",
      "loss: 0.143852 [19200/60000]\n",
      "loss: 0.310901 [25600/60000]\n",
      "loss: 0.214662 [32000/60000]\n",
      "loss: 0.139066 [38400/60000]\n",
      "loss: 0.227859 [44800/60000]\n",
      "loss: 0.186104 [51200/60000]\n",
      "loss: 0.294586 [57600/60000]\n",
      "Test error: \n",
      "Accuracy: 88.1%, Avg loss: 0.364699 \n",
      "\n",
      "Epoch 8\n",
      "-------\n",
      "loss: 0.188332 [    0/60000]\n",
      "loss: 0.113956 [ 6400/60000]\n",
      "loss: 0.139112 [12800/60000]\n",
      "loss: 0.143721 [19200/60000]\n",
      "loss: 0.289671 [25600/60000]\n",
      "loss: 0.238465 [32000/60000]\n",
      "loss: 0.143900 [38400/60000]\n",
      "loss: 0.269869 [44800/60000]\n",
      "loss: 0.176522 [51200/60000]\n",
      "loss: 0.236250 [57600/60000]\n",
      "Test error: \n",
      "Accuracy: 88.4%, Avg loss: 0.372937 \n",
      "\n",
      "Epoch 9\n",
      "-------\n",
      "loss: 0.113576 [    0/60000]\n",
      "loss: 0.124847 [ 6400/60000]\n",
      "loss: 0.149713 [12800/60000]\n",
      "loss: 0.195166 [19200/60000]\n",
      "loss: 0.263277 [25600/60000]\n",
      "loss: 0.207224 [32000/60000]\n",
      "loss: 0.150463 [38400/60000]\n",
      "loss: 0.211507 [44800/60000]\n",
      "loss: 0.155426 [51200/60000]\n",
      "loss: 0.240599 [57600/60000]\n",
      "Test error: \n",
      "Accuracy: 88.1%, Avg loss: 0.396711 \n",
      "\n",
      "Epoch 10\n",
      "-------\n",
      "loss: 0.144994 [    0/60000]\n",
      "loss: 0.106559 [ 6400/60000]\n",
      "loss: 0.136213 [12800/60000]\n",
      "loss: 0.101722 [19200/60000]\n",
      "loss: 0.276992 [25600/60000]\n",
      "loss: 0.178271 [32000/60000]\n",
      "loss: 0.130175 [38400/60000]\n",
      "loss: 0.247704 [44800/60000]\n",
      "loss: 0.117028 [51200/60000]\n",
      "loss: 0.254273 [57600/60000]\n",
      "Test error: \n",
      "Accuracy: 88.1%, Avg loss: 0.424765 \n",
      "\n",
      "Epoch 11\n",
      "-------\n",
      "loss: 0.126851 [    0/60000]\n",
      "loss: 0.132403 [ 6400/60000]\n",
      "loss: 0.143831 [12800/60000]\n",
      "loss: 0.129353 [19200/60000]\n",
      "loss: 0.269815 [25600/60000]\n",
      "loss: 0.192904 [32000/60000]\n",
      "loss: 0.170690 [38400/60000]\n",
      "loss: 0.250244 [44800/60000]\n",
      "loss: 0.126956 [51200/60000]\n",
      "loss: 0.246231 [57600/60000]\n",
      "Test error: \n",
      "Accuracy: 88.2%, Avg loss: 0.400062 \n",
      "\n",
      "Epoch 12\n",
      "-------\n",
      "loss: 0.144747 [    0/60000]\n",
      "loss: 0.104854 [ 6400/60000]\n",
      "loss: 0.161798 [12800/60000]\n",
      "loss: 0.143570 [19200/60000]\n",
      "loss: 0.341383 [25600/60000]\n",
      "loss: 0.183694 [32000/60000]\n",
      "loss: 0.107710 [38400/60000]\n",
      "loss: 0.234742 [44800/60000]\n",
      "loss: 0.130004 [51200/60000]\n",
      "loss: 0.176108 [57600/60000]\n",
      "Test error: \n",
      "Accuracy: 88.3%, Avg loss: 0.428815 \n",
      "\n",
      "Epoch 13\n",
      "-------\n",
      "loss: 0.126160 [    0/60000]\n",
      "loss: 0.112308 [ 6400/60000]\n",
      "loss: 0.133853 [12800/60000]\n",
      "loss: 0.092360 [19200/60000]\n",
      "loss: 0.238997 [25600/60000]\n",
      "loss: 0.199398 [32000/60000]\n",
      "loss: 0.104325 [38400/60000]\n",
      "loss: 0.168299 [44800/60000]\n",
      "loss: 0.159114 [51200/60000]\n",
      "loss: 0.157768 [57600/60000]\n",
      "Test error: \n",
      "Accuracy: 88.3%, Avg loss: 0.446880 \n",
      "\n",
      "Epoch 14\n",
      "-------\n",
      "loss: 0.111086 [    0/60000]\n",
      "loss: 0.083730 [ 6400/60000]\n",
      "loss: 0.150991 [12800/60000]\n",
      "loss: 0.146962 [19200/60000]\n",
      "loss: 0.188353 [25600/60000]\n",
      "loss: 0.163377 [32000/60000]\n",
      "loss: 0.109212 [38400/60000]\n",
      "loss: 0.197158 [44800/60000]\n",
      "loss: 0.140234 [51200/60000]\n",
      "loss: 0.224271 [57600/60000]\n",
      "Test error: \n",
      "Accuracy: 88.3%, Avg loss: 0.465117 \n",
      "\n",
      "Epoch 15\n",
      "-------\n",
      "loss: 0.090344 [    0/60000]\n",
      "loss: 0.083979 [ 6400/60000]\n",
      "loss: 0.199940 [12800/60000]\n",
      "loss: 0.132640 [19200/60000]\n",
      "loss: 0.233157 [25600/60000]\n",
      "loss: 0.121257 [32000/60000]\n",
      "loss: 0.094580 [38400/60000]\n",
      "loss: 0.169473 [44800/60000]\n",
      "loss: 0.077222 [51200/60000]\n",
      "loss: 0.173437 [57600/60000]\n",
      "Test error: \n",
      "Accuracy: 88.3%, Avg loss: 0.454849 \n",
      "\n",
      "Done.\n"
     ]
    }
   ],
   "source": [
    "epochs = 15\n",
    "for t in range(epochs):\n",
    "  print(f\"Epoch {t+1}\\n-------\")\n",
    "  train(training_data_loader, model, criterion, optimizer)\n",
    "  test(test_data_loader, model, criterion)\n",
    "print(\"Done.\")"
   ]
  },
  {
   "cell_type": "code",
   "execution_count": 22,
   "metadata": {},
   "outputs": [],
   "source": [
    "# save the model\n",
    "torch.save(model.state_dict(), \"../../dat/pyt/FashionMNIST/model\")"
   ]
  },
  {
   "cell_type": "code",
   "execution_count": 23,
   "metadata": {},
   "outputs": [],
   "source": [
    "classes = [\n",
    "    \"T-shirt/top\",\n",
    "    \"Trouser\",\n",
    "    \"Pullover\",\n",
    "    \"Dress\",\n",
    "    \"Coat\",\n",
    "    \"Sandal\",\n",
    "    \"Shirt\",\n",
    "    \"Sneaker\",\n",
    "    \"Bag\",\n",
    "    \"Ankle boot\",\n",
    "]"
   ]
  },
  {
   "cell_type": "code",
   "execution_count": 40,
   "metadata": {},
   "outputs": [
    {
     "name": "stdout",
     "output_type": "stream",
     "text": [
      "predicted: 'Dress', actual: 'Dress'\n"
     ]
    }
   ],
   "source": [
    "model.eval()\n",
    "x, y = test_data[100][0], test_data[100][1]\n",
    "with torch.no_grad():\n",
    "  z = model(x)\n",
    "  predicted = z[0].argmax(0)\n",
    "  print(f\"predicted: '{classes[predicted]}', actual: '{classes[y]}'\")"
   ]
  },
  {
   "cell_type": "code",
   "execution_count": null,
   "metadata": {},
   "outputs": [],
   "source": []
  }
 ],
 "metadata": {
  "interpreter": {
   "hash": "aee8b7b246df8f9039afb4144a1f6fd8d2ca17a180786b69acc140d282b71a49"
  },
  "kernelspec": {
   "display_name": "Python 3.9.9 64-bit",
   "language": "python",
   "name": "python3"
  },
  "language_info": {
   "codemirror_mode": {
    "name": "ipython",
    "version": 3
   },
   "file_extension": ".py",
   "mimetype": "text/x-python",
   "name": "python",
   "nbconvert_exporter": "python",
   "pygments_lexer": "ipython3",
   "version": "3.9.9"
  },
  "orig_nbformat": 4
 },
 "nbformat": 4,
 "nbformat_minor": 2
}
