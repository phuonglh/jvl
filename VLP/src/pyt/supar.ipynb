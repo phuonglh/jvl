{
 "cells": [
  {
   "cell_type": "code",
   "execution_count": 1,
   "metadata": {},
   "outputs": [
    {
     "name": "stderr",
     "output_type": "stream",
     "text": [
      "/Library/Frameworks/Python.framework/Versions/3.10/lib/python3.10/site-packages/tqdm/auto.py:22: TqdmWarning: IProgress not found. Please update jupyter and ipywidgets. See https://ipywidgets.readthedocs.io/en/stable/user_install.html\n",
      "  from .autonotebook import tqdm as notebook_tqdm\n"
     ]
    }
   ],
   "source": [
    "from supar import Parser"
   ]
  },
  {
   "cell_type": "code",
   "execution_count": 3,
   "metadata": {},
   "outputs": [],
   "source": [
    "parser = Parser.load('biaffine-dep-en')"
   ]
  },
  {
   "cell_type": "code",
   "execution_count": 6,
   "metadata": {},
   "outputs": [
    {
     "name": "stdout",
     "output_type": "stream",
     "text": [
      "2022-10-03 16:05:37 INFO Loading the data\n"
     ]
    },
    {
     "name": "stderr",
     "output_type": "stream",
     "text": [
      "                                           \r"
     ]
    },
    {
     "name": "stdout",
     "output_type": "stream",
     "text": [
      "2022-10-03 16:05:37 INFO \n",
      "Dataset(n_sentences=1, n_batches=1, n_buckets=1)\n",
      "2022-10-03 16:05:37 INFO Making predictions on the dataset\n"
     ]
    },
    {
     "name": "stderr",
     "output_type": "stream",
     "text": [
      "                                           \r"
     ]
    },
    {
     "name": "stdout",
     "output_type": "stream",
     "text": [
      "2022-10-03 16:05:37 INFO 0:00:00.046626s elapsed, 21.45 Sents/s\n"
     ]
    }
   ],
   "source": [
    "dataset = parser.predict('I saw Sarah with a telescope.', lang='en', prob=True)"
   ]
  },
  {
   "cell_type": "code",
   "execution_count": 7,
   "metadata": {},
   "outputs": [
    {
     "data": {
      "text/plain": [
       "1\tI\t_\t_\t_\t_\t2\tnsubj\t_\t_\n",
       "2\tsaw\t_\t_\t_\t_\t0\troot\t_\t_\n",
       "3\tSarah\t_\t_\t_\t_\t2\tdobj\t_\t_\n",
       "4\twith\t_\t_\t_\t_\t2\tprep\t_\t_\n",
       "5\ta\t_\t_\t_\t_\t6\tdet\t_\t_\n",
       "6\ttelescope\t_\t_\t_\t_\t4\tpobj\t_\t_\n",
       "7\t.\t_\t_\t_\t_\t2\tpunct\t_\t_"
      ]
     },
     "execution_count": 7,
     "metadata": {},
     "output_type": "execute_result"
    }
   ],
   "source": [
    "dataset[0]"
   ]
  },
  {
   "cell_type": "code",
   "execution_count": 8,
   "metadata": {},
   "outputs": [
    {
     "data": {
      "text/plain": [
       "[2, 0, 2, 2, 6, 4, 2]"
      ]
     },
     "execution_count": 8,
     "metadata": {},
     "output_type": "execute_result"
    }
   ],
   "source": [
    "dataset[0].arcs"
   ]
  },
  {
   "cell_type": "code",
   "execution_count": 10,
   "metadata": {},
   "outputs": [
    {
     "data": {
      "text/plain": [
       "['nsubj', 'root', 'dobj', 'prep', 'det', 'pobj', 'punct']"
      ]
     },
     "execution_count": 10,
     "metadata": {},
     "output_type": "execute_result"
    }
   ],
   "source": [
    "dataset[0].rels"
   ]
  },
  {
   "cell_type": "code",
   "execution_count": 11,
   "metadata": {},
   "outputs": [
    {
     "data": {
      "text/plain": [
       "tensor([[5.8919e-07, 1.5692e-06, 9.9999e-01, 7.3136e-06, 3.7444e-08, 4.3307e-11,\n",
       "         4.6184e-08, 2.9445e-11],\n",
       "        [9.9990e-01, 4.3062e-07, 9.6419e-05, 3.0699e-06, 1.0426e-07, 5.3947e-12,\n",
       "         1.8981e-06, 2.0480e-12],\n",
       "        [4.4154e-05, 6.4408e-07, 9.9661e-01, 2.9777e-03, 2.3006e-04, 3.6424e-07,\n",
       "         1.3497e-04, 1.3889e-07],\n",
       "        [1.3037e-06, 6.6844e-07, 8.9444e-01, 1.0548e-01, 7.8123e-07, 1.1784e-08,\n",
       "         7.8541e-05, 4.1731e-09],\n",
       "        [3.1074e-10, 3.5580e-11, 1.9069e-07, 2.5352e-06, 4.5855e-06, 9.1011e-10,\n",
       "         9.9999e-01, 1.2876e-10],\n",
       "        [4.0159e-08, 2.4039e-10, 2.1778e-05, 1.1019e-06, 9.9998e-01, 1.4106e-07,\n",
       "         1.5088e-06, 8.1115e-09],\n",
       "        [9.2118e-07, 7.7041e-07, 9.9989e-01, 1.0227e-04, 8.9347e-07, 2.0080e-10,\n",
       "         5.3173e-06, 5.6246e-11]])"
      ]
     },
     "execution_count": 11,
     "metadata": {},
     "output_type": "execute_result"
    }
   ],
   "source": [
    "dataset[0].probs"
   ]
  },
  {
   "cell_type": "code",
   "execution_count": 13,
   "metadata": {},
   "outputs": [],
   "source": [
    "con = Parser.load('crf-con-en')"
   ]
  },
  {
   "cell_type": "code",
   "execution_count": 14,
   "metadata": {},
   "outputs": [
    {
     "name": "stdout",
     "output_type": "stream",
     "text": [
      "2022-10-03 16:15:54 INFO Loading the data\n"
     ]
    },
    {
     "name": "stderr",
     "output_type": "stream",
     "text": [
      "                                           \r"
     ]
    },
    {
     "name": "stdout",
     "output_type": "stream",
     "text": [
      "2022-10-03 16:15:54 INFO \n",
      "Dataset(n_sentences=1, n_batches=1, n_buckets=1)\n",
      "2022-10-03 16:15:54 INFO Making predictions on the dataset\n"
     ]
    },
    {
     "name": "stderr",
     "output_type": "stream",
     "text": [
      "                                           \r"
     ]
    },
    {
     "name": "stdout",
     "output_type": "stream",
     "text": [
      "2022-10-03 16:15:54 INFO 0:00:00.082588s elapsed, 12.11 Sents/s\n"
     ]
    }
   ],
   "source": [
    "ds = con.predict(['I', 'saw', 'Sarah', 'with', 'a', 'telescope', '.'])"
   ]
  },
  {
   "cell_type": "code",
   "execution_count": 15,
   "metadata": {},
   "outputs": [
    {
     "name": "stdout",
     "output_type": "stream",
     "text": [
      "              TOP                       \n",
      "               |                         \n",
      "               S                        \n",
      "  _____________|______________________   \n",
      " |             VP                     | \n",
      " |    _________|____                  |  \n",
      " |   |    |         PP                | \n",
      " |   |    |     ____|___              |  \n",
      " NP  |    NP   |        NP            | \n",
      " |   |    |    |     ___|______       |  \n",
      " _   _    _    _    _          _      _ \n",
      " |   |    |    |    |          |      |  \n",
      " I  saw Sarah with  a      telescope  . \n",
      "\n"
     ]
    }
   ],
   "source": [
    "ds[0].pretty_print()"
   ]
  },
  {
   "cell_type": "code",
   "execution_count": null,
   "metadata": {},
   "outputs": [],
   "source": []
  }
 ],
 "metadata": {
  "kernelspec": {
   "display_name": "Python 3.10.7 64-bit",
   "language": "python",
   "name": "python3"
  },
  "language_info": {
   "codemirror_mode": {
    "name": "ipython",
    "version": 3
   },
   "file_extension": ".py",
   "mimetype": "text/x-python",
   "name": "python",
   "nbconvert_exporter": "python",
   "pygments_lexer": "ipython3",
   "version": "3.10.7"
  },
  "orig_nbformat": 4,
  "vscode": {
   "interpreter": {
    "hash": "aee8b7b246df8f9039afb4144a1f6fd8d2ca17a180786b69acc140d282b71a49"
   }
  }
 },
 "nbformat": 4,
 "nbformat_minor": 2
}
